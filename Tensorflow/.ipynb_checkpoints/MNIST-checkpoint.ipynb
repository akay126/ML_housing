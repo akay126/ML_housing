{
 "cells": [
  {
   "cell_type": "code",
   "execution_count": 1,
   "metadata": {},
   "outputs": [
    {
     "name": "stderr",
     "output_type": "stream",
     "text": [
      "Using TensorFlow backend.\n"
     ]
    }
   ],
   "source": [
    "import keras\n",
    "from keras.datasets import mnist\n",
    "from keras.models import Sequential\n",
    "from keras.layers import Dense, Dropout\n",
    "from keras.layers import Flatten,  MaxPooling2D, Conv2D\n",
    "from keras.callbacks import TensorBoard"
   ]
  },
  {
   "cell_type": "code",
   "execution_count": 2,
   "metadata": {},
   "outputs": [],
   "source": [
    "(X_train,y_train), (X_test, y_test) = mnist.load_data()\n",
    "\n",
    "X_train = X_train.reshape(60000,28,28,1).astype('float32')\n",
    "X_test = X_test.reshape(10000,28,28,1).astype('float32')\n",
    "\n",
    "X_train /= 255\n",
    "X_test /= 255\n",
    "\n",
    "n_classes = 10\n",
    "y_train = keras.utils.to_categorical(y_train, n_classes)\n",
    "y_test = keras.utils.to_categorical(y_test, n_classes)"
   ]
  },
  {
   "cell_type": "code",
   "execution_count": 3,
   "metadata": {},
   "outputs": [],
   "source": [
    "model = Sequential()\n",
    "model.add(Conv2D(32, kernel_size=(3,3), activation='relu', input_shape=(28,28,1)) )\n",
    "model.add(Conv2D(64, kernel_size=(3,3), activation='relu'))\n",
    "model.add(MaxPooling2D(pool_size=(2,2)))\n",
    "model.add(Dropout(0.25))\n",
    "model.add(Flatten())          \n",
    "model.add(Dense(128, activation='relu'))\n",
    "model.add(Dropout(0.5))\n",
    "model.add(Dense(n_classes, activation='softmax'))"
   ]
  },
  {
   "cell_type": "code",
   "execution_count": 4,
   "metadata": {},
   "outputs": [],
   "source": [
    "model.compile(loss='categorical_crossentropy', optimizer='adam', metrics=['accuracy'])"
   ]
  },
  {
   "cell_type": "code",
   "execution_count": 5,
   "metadata": {},
   "outputs": [],
   "source": [
    "tensor_board = TensorBoard('./logs/LeNet-MNIST-1')"
   ]
  },
  {
   "cell_type": "code",
   "execution_count": 6,
   "metadata": {},
   "outputs": [
    {
     "name": "stdout",
     "output_type": "stream",
     "text": [
      "Train on 60000 samples, validate on 10000 samples\n",
      "Epoch 1/15\n",
      "60000/60000 [==============================] - 7s 120us/step - loss: 0.2555 - acc: 0.9232 - val_loss: 0.0554 - val_acc: 0.9812\n",
      "Epoch 2/15\n",
      "60000/60000 [==============================] - 6s 99us/step - loss: 0.0895 - acc: 0.9740 - val_loss: 0.0489 - val_acc: 0.9832\n",
      "Epoch 3/15\n",
      "60000/60000 [==============================] - 6s 99us/step - loss: 0.0688 - acc: 0.9786 - val_loss: 0.0374 - val_acc: 0.9874\n",
      "Epoch 4/15\n",
      "60000/60000 [==============================] - 6s 100us/step - loss: 0.0559 - acc: 0.9831 - val_loss: 0.0331 - val_acc: 0.9887\n",
      "Epoch 5/15\n",
      "60000/60000 [==============================] - 6s 100us/step - loss: 0.0485 - acc: 0.9850 - val_loss: 0.0310 - val_acc: 0.9893\n",
      "Epoch 6/15\n",
      "60000/60000 [==============================] - 6s 99us/step - loss: 0.0404 - acc: 0.9870 - val_loss: 0.0371 - val_acc: 0.9883\n",
      "Epoch 7/15\n",
      "60000/60000 [==============================] - 6s 100us/step - loss: 0.0377 - acc: 0.9881 - val_loss: 0.0284 - val_acc: 0.9916\n",
      "Epoch 8/15\n",
      "60000/60000 [==============================] - 6s 100us/step - loss: 0.0325 - acc: 0.9897 - val_loss: 0.0290 - val_acc: 0.9915\n",
      "Epoch 9/15\n",
      "60000/60000 [==============================] - 6s 101us/step - loss: 0.0314 - acc: 0.9897 - val_loss: 0.0286 - val_acc: 0.9914\n",
      "Epoch 10/15\n",
      "60000/60000 [==============================] - 6s 100us/step - loss: 0.0272 - acc: 0.9910 - val_loss: 0.0305 - val_acc: 0.9910\n",
      "Epoch 11/15\n",
      "60000/60000 [==============================] - 6s 100us/step - loss: 0.0263 - acc: 0.9914 - val_loss: 0.0281 - val_acc: 0.9913\n",
      "Epoch 12/15\n",
      "60000/60000 [==============================] - 6s 100us/step - loss: 0.0239 - acc: 0.9922 - val_loss: 0.0311 - val_acc: 0.9924\n",
      "Epoch 13/15\n",
      "60000/60000 [==============================] - 6s 100us/step - loss: 0.0213 - acc: 0.9927 - val_loss: 0.0305 - val_acc: 0.9915\n",
      "Epoch 14/15\n",
      "60000/60000 [==============================] - 6s 101us/step - loss: 0.0201 - acc: 0.9933 - val_loss: 0.0316 - val_acc: 0.9911\n",
      "Epoch 15/15\n",
      "60000/60000 [==============================] - 6s 101us/step - loss: 0.0177 - acc: 0.9944 - val_loss: 0.0294 - val_acc: 0.9919\n"
     ]
    },
    {
     "data": {
      "text/plain": [
       "<keras.callbacks.History at 0x130ead58828>"
      ]
     },
     "execution_count": 6,
     "metadata": {},
     "output_type": "execute_result"
    }
   ],
   "source": [
    "model.fit(X_train, y_train, batch_size=128, epochs=15, verbose=1,\n",
    "          validation_data=(X_test,y_test), callbacks=[tensor_board])"
   ]
  },
  {
   "cell_type": "code",
   "execution_count": null,
   "metadata": {},
   "outputs": [],
   "source": []
  }
 ],
 "metadata": {
  "kernelspec": {
   "display_name": "TensorFlow-GPU",
   "language": "python",
   "name": "tf-gpu"
  },
  "language_info": {
   "codemirror_mode": {
    "name": "ipython",
    "version": 3
   },
   "file_extension": ".py",
   "mimetype": "text/x-python",
   "name": "python",
   "nbconvert_exporter": "python",
   "pygments_lexer": "ipython3",
   "version": "3.6.7"
  }
 },
 "nbformat": 4,
 "nbformat_minor": 2
}
